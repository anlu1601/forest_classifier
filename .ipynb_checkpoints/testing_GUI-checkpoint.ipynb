{
 "cells": [
  {
   "cell_type": "code",
   "execution_count": 1,
   "metadata": {},
   "outputs": [],
   "source": [
    "#!/usr/bin/python\n",
    "import os\n",
    "import pandas as pd\n",
    "import numpy as np\n",
    "import cv2\n",
    "import shutil\n",
    "import matplotlib.pyplot as plt\n",
    "import matplotlib.image as mpimg\n",
    "import reverse_geocode\n",
    "import glob\n",
    "import math\n",
    "import tkinter as tk\n",
    "from tkinter import *\n",
    "from PIL import ImageTk, Image"
   ]
  },
  {
   "cell_type": "code",
   "execution_count": 2,
   "metadata": {},
   "outputs": [],
   "source": [
    "def imagen():\n",
    "    pass"
   ]
  },
  {
   "cell_type": "code",
   "execution_count": 3,
   "metadata": {},
   "outputs": [
    {
     "ename": "TclError",
     "evalue": "cannot use geometry manager grid inside . which already has slaves managed by pack",
     "output_type": "error",
     "traceback": [
      "\u001b[1;31m---------------------------------------------------------------------------\u001b[0m",
      "\u001b[1;31mTclError\u001b[0m                                  Traceback (most recent call last)",
      "\u001b[1;32m<ipython-input-3-0e427adcb715>\u001b[0m in \u001b[0;36m<module>\u001b[1;34m\u001b[0m\n\u001b[0;32m     43\u001b[0m \u001b[1;33m\u001b[0m\u001b[0m\n\u001b[0;32m     44\u001b[0m \u001b[0mbutton\u001b[0m \u001b[1;33m=\u001b[0m \u001b[0mtk\u001b[0m\u001b[1;33m.\u001b[0m\u001b[0mButton\u001b[0m\u001b[1;33m(\u001b[0m\u001b[0mwindow\u001b[0m\u001b[1;33m,\u001b[0m \u001b[0mtext\u001b[0m\u001b[1;33m=\u001b[0m\u001b[1;34m'Save image'\u001b[0m\u001b[1;33m,\u001b[0m \u001b[0mwidth\u001b[0m\u001b[1;33m=\u001b[0m\u001b[1;36m25\u001b[0m\u001b[1;33m,\u001b[0m \u001b[0mcommand\u001b[0m\u001b[1;33m=\u001b[0m\u001b[0mimagen\u001b[0m\u001b[1;33m)\u001b[0m\u001b[1;33m\u001b[0m\u001b[1;33m\u001b[0m\u001b[0m\n\u001b[1;32m---> 45\u001b[1;33m \u001b[0mbutton\u001b[0m\u001b[1;33m.\u001b[0m\u001b[0mgrid\u001b[0m\u001b[1;33m(\u001b[0m\u001b[0mcolumn\u001b[0m\u001b[1;33m=\u001b[0m\u001b[1;36m3\u001b[0m\u001b[1;33m,\u001b[0m\u001b[0mrow\u001b[0m\u001b[1;33m=\u001b[0m\u001b[1;36m3\u001b[0m\u001b[1;33m)\u001b[0m\u001b[1;33m\u001b[0m\u001b[1;33m\u001b[0m\u001b[0m\n\u001b[0m\u001b[0;32m     46\u001b[0m \u001b[1;33m\u001b[0m\u001b[0m\n\u001b[0;32m     47\u001b[0m \u001b[0mwindow\u001b[0m\u001b[1;33m.\u001b[0m\u001b[0mmainloop\u001b[0m\u001b[1;33m(\u001b[0m\u001b[1;33m)\u001b[0m\u001b[1;33m\u001b[0m\u001b[1;33m\u001b[0m\u001b[0m\n",
      "\u001b[1;32mD:\\Program\\anaconda3\\envs\\machine_learning\\lib\\tkinter\\__init__.py\u001b[0m in \u001b[0;36mgrid_configure\u001b[1;34m(self, cnf, **kw)\u001b[0m\n\u001b[0;32m   2482\u001b[0m                       \u001b[0mwidget\u001b[0m \u001b[0mstick\u001b[0m \u001b[0mto\u001b[0m \u001b[0mthe\u001b[0m \u001b[0mcell\u001b[0m \u001b[0mboundary\u001b[0m\u001b[1;33m\u001b[0m\u001b[1;33m\u001b[0m\u001b[0m\n\u001b[0;32m   2483\u001b[0m         \"\"\"\n\u001b[1;32m-> 2484\u001b[1;33m         self.tk.call(\n\u001b[0m\u001b[0;32m   2485\u001b[0m               \u001b[1;33m(\u001b[0m\u001b[1;34m'grid'\u001b[0m\u001b[1;33m,\u001b[0m \u001b[1;34m'configure'\u001b[0m\u001b[1;33m,\u001b[0m \u001b[0mself\u001b[0m\u001b[1;33m.\u001b[0m\u001b[0m_w\u001b[0m\u001b[1;33m)\u001b[0m\u001b[1;33m\u001b[0m\u001b[1;33m\u001b[0m\u001b[0m\n\u001b[0;32m   2486\u001b[0m               + self._options(cnf, kw))\n",
      "\u001b[1;31mTclError\u001b[0m: cannot use geometry manager grid inside . which already has slaves managed by pack"
     ]
    }
   ],
   "source": [
    "dest = './image_labeled_input'\n",
    "src = './images'\n",
    "# hypothetical array of data\n",
    "data_arr = []\n",
    "data = ('DJI_0001.jpg', (167, 374), (328, 515), 'tree_1.png')\n",
    "data_arr.append(data)\n",
    "data = ('DJI_0001.jpg', (226, 180), (374, 334), 'tree_115.png')\n",
    "data_arr.append(data)\n",
    "data = ('DJI_0001.jpg', (364, 121), (502, 246), 'tree_129.png')\n",
    "data_arr.append(data)\n",
    "data = ('DJI_0001.jpg', (574, 269), (699, 377), 'tree_215.png')\n",
    "data_arr.append(data)\n",
    "data = ('DJI_0001.jpg', (420, 463), (610, 627), 'tree_444.png')\n",
    "data_arr.append(data)\n",
    "data = ('DJI_0001.jpg', (325, 794), (492, 932), 'tree_123.png')\n",
    "data_arr.append(data)\n",
    "#print(data_arr)\n",
    "\n",
    "template = cv2.imread(data[0])\n",
    "color = (255,0,0)\n",
    "for data in data_arr:\n",
    "    cv2.rectangle(template, data[1], data[2], color, 5)\n",
    "        \n",
    "        #f = Figure(figsize = (18,12))\n",
    "        #f.axis('off')\n",
    "        #f.imshow(template, aspect='auto')\n",
    "        #plt.show()\n",
    "b,g,r = cv2.split(template)\n",
    "img = cv2.merge((r,g,b))\n",
    "\n",
    "window = Tk()\n",
    "window.title(\"Forest prediction trainer\")\n",
    "\n",
    "# Convert the Image object into a TkPhoto object\n",
    "im = Image.fromarray(img)\n",
    "im = im.resize((900, 700), Image.ANTIALIAS)\n",
    "imgtk = ImageTk.PhotoImage(image=im) \n",
    "\n",
    "\n",
    "#img = ImageTk.PhotoImage(template)\n",
    "panel = Label(window, image = imgtk)\n",
    "panel.pack(side = \"bottom\", fill = \"both\", expand = \"yes\")\n",
    "\n",
    "# Can't use grid and pack in same frame LOL\n",
    "#button = tk.Button(window, text='Save image', width=25, command=imagen)\n",
    "#button.grid(column=3,row=3)\n",
    "\n",
    "window.mainloop()"
   ]
  }
 ],
 "metadata": {
  "kernelspec": {
   "display_name": "Python 3",
   "language": "python",
   "name": "python3"
  },
  "language_info": {
   "codemirror_mode": {
    "name": "ipython",
    "version": 3
   },
   "file_extension": ".py",
   "mimetype": "text/x-python",
   "name": "python",
   "nbconvert_exporter": "python",
   "pygments_lexer": "ipython3",
   "version": "3.8.5"
  }
 },
 "nbformat": 4,
 "nbformat_minor": 4
}
