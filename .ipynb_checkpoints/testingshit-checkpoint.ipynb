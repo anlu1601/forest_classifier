{
 "cells": [
  {
   "cell_type": "code",
   "execution_count": 1,
   "metadata": {},
   "outputs": [],
   "source": [
    "#!/usr/bin/python\n",
    "import os\n",
    "import pandas as pd\n",
    "import numpy as np\n",
    "import cv2\n",
    "import matplotlib.pyplot as plt\n",
    "import matplotlib.image as mpimg\n",
    "import reverse_geocode"
   ]
  },
  {
   "cell_type": "code",
   "execution_count": 2,
   "metadata": {},
   "outputs": [],
   "source": [
    "def dms_to_dd(d, m, s):\n",
    "    dd = d + float(m)/60 + float(s)/3600\n",
    "    return dd"
   ]
  },
  {
   "cell_type": "code",
   "execution_count": 3,
   "metadata": {},
   "outputs": [
    {
     "name": "stdout",
     "output_type": "stream",
     "text": [
      "59.543997222222224 12.503294444444444\n"
     ]
    }
   ],
   "source": [
    "lat = dms_to_dd(59,32,38.39)\n",
    "long = dms_to_dd(12,30,11.86)\n",
    "print(lat, long)"
   ]
  },
  {
   "cell_type": "code",
   "execution_count": 8,
   "metadata": {},
   "outputs": [
    {
     "ename": "TypeError",
     "evalue": "get() takes 1 positional argument but 2 were given",
     "output_type": "error",
     "traceback": [
      "\u001b[1;31m---------------------------------------------------------------------------\u001b[0m",
      "\u001b[1;31mTypeError\u001b[0m                                 Traceback (most recent call last)",
      "\u001b[1;32m<ipython-input-8-f25fe02a2893>\u001b[0m in \u001b[0;36m<module>\u001b[1;34m\u001b[0m\n\u001b[0;32m      2\u001b[0m \u001b[1;31m#long = str(long, errors='ignore')\u001b[0m\u001b[1;33m\u001b[0m\u001b[1;33m\u001b[0m\u001b[1;33m\u001b[0m\u001b[0m\n\u001b[0;32m      3\u001b[0m \u001b[0mcoordinates\u001b[0m \u001b[1;33m=\u001b[0m \u001b[1;33m(\u001b[0m\u001b[0mlat\u001b[0m\u001b[1;33m,\u001b[0m \u001b[0mlong\u001b[0m\u001b[1;33m)\u001b[0m\u001b[1;33m\u001b[0m\u001b[1;33m\u001b[0m\u001b[0m\n\u001b[1;32m----> 4\u001b[1;33m \u001b[0mreverse_geocode\u001b[0m\u001b[1;33m.\u001b[0m\u001b[0mget\u001b[0m\u001b[1;33m(\u001b[0m\u001b[0mlat\u001b[0m\u001b[1;33m,\u001b[0m \u001b[0mlong\u001b[0m\u001b[1;33m)\u001b[0m\u001b[1;33m\u001b[0m\u001b[1;33m\u001b[0m\u001b[0m\n\u001b[0m",
      "\u001b[1;31mTypeError\u001b[0m: get() takes 1 positional argument but 2 were given"
     ]
    }
   ],
   "source": [
    "#lat = str(lat, errors='ignore')\n",
    "#long = str(long, errors='ignore')\n",
    "coordinates = (lat, long)\n",
    "reverse_geocode.get(coordinates)"
   ]
  },
  {
   "cell_type": "code",
   "execution_count": null,
   "metadata": {},
   "outputs": [],
   "source": [
    "img = cv2.imread('spruce1.png')\n",
    "img2 = img.copy()\n",
    "img_gray = cv2.cvtColor(img, cv2.COLOR_BGR2GRAY)\n",
    "template = cv2.imread('DJI_0001.jpg')\n",
    "template_grey = cv2.cvtColor(template, cv2.COLOR_BGR2GRAY)\n",
    "\n",
    "#w, h = template.shape[::-1]\n",
    "height, width = img.shape[:2]\n",
    "print(width, height)"
   ]
  },
  {
   "cell_type": "code",
   "execution_count": null,
   "metadata": {},
   "outputs": [],
   "source": [
    "methods = ['cv2.TM_CCOEFF', 'cv2.TM_CCOEFF_NORMED', 'cv2.TM_CCORR',\n",
    "            'cv2.TM_CCORR_NORMED', 'cv2.TM_SQDIFF', 'cv2.TM_SQDIFF_NORMED']\n",
    "meth = eval(methods[3])\n",
    "res = cv2.matchTemplate(img_gray,template_grey,meth)\n",
    "min_val, max_val, min_loc, max_loc = cv2.minMaxLoc(res)\n",
    "top_left = max_loc\n",
    "bottom_right = (top_left[0] + width, top_left[1] + height)\n",
    "\n",
    "top = (max_loc,(top_left[0]-100, top_left[1]-100),(top_left[0]-200, top_left[1]-100),(top_left[0]-100, top_left[1]-200))\n",
    "bottom = (bottom_right,(top_left[0], top_left[1]),(top_left[0]-100, top_left[1]),(top_left[0], top_left[1]-100))\n",
    "print(max_loc)\n",
    "color = (255,0,0)\n",
    "#cv2.rectangle(template,top_left, bottom_right, color, 5)\n",
    "\n",
    "plt.subplot(121),plt.imshow(res,cmap = 'gray')\n",
    "plt.title('Matching Result'), plt.xticks([]), plt.yticks([])\n",
    "plt.subplot(122),plt.imshow(img,cmap = 'gray')\n",
    "plt.title('Detected Point'), plt.xticks([]), plt.yticks([])\n",
    "\n",
    "plt.show()\n",
    "\n",
    "for i in range(0, 3):\n",
    "    cv2.rectangle(template,top[i], bottom[i], color, 5)\n",
    "    \n",
    "\n",
    "#im = mpimg.imread('DJI_0001.jpg')\n",
    "#plt.imshow(im)\n",
    "plt.figure(figsize = (18,12))\n",
    "plt.imshow(template, cmap='gray', aspect='auto')\n",
    "plt.show()\n"
   ]
  }
 ],
 "metadata": {
  "kernelspec": {
   "display_name": "Python 3",
   "language": "python",
   "name": "python3"
  },
  "language_info": {
   "codemirror_mode": {
    "name": "ipython",
    "version": 3
   },
   "file_extension": ".py",
   "mimetype": "text/x-python",
   "name": "python",
   "nbconvert_exporter": "python",
   "pygments_lexer": "ipython3",
   "version": "3.8.5"
  }
 },
 "nbformat": 4,
 "nbformat_minor": 4
}
