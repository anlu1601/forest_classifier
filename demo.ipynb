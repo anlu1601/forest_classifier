{
 "cells": [
  {
   "cell_type": "code",
   "execution_count": null,
   "metadata": {},
   "outputs": [],
   "source": [
    "from folders import get_tso, get_tsd\n",
    "from tree_segmentation.tree_predictor import TreePredictor\n",
    "import interaction.user_interaction as interact\n",
    "import interaction.import_trees as imp_trees\n",
    "import labeling.choose_model as cm\n",
    "import clustering.make_cluster as mc\n",
    "import warnings\n",
    "warnings.filterwarnings(\"ignore\")"
   ]
  },
  {
   "cell_type": "code",
   "execution_count": null,
   "metadata": {},
   "outputs": [],
   "source": [
    "if __name__ == '__main__':\n",
    "    #PREDICT AND SAVE TREES, SEGMENTATION\n",
    "    predictor = TreePredictor()\n",
    "    predictor.load_model('trained_model.h5')\n",
    "    predictor.predict_and_store_trees_from_folder(folder_path=\"./tree_segmentation/data\", \n",
    "                                                  save_json=True, save_folder=get_tso())"
   ]
  },
  {
   "cell_type": "code",
   "execution_count": null,
   "metadata": {},
   "outputs": [],
   "source": [
    "if __name__ == '__main__':\n",
    "    #CREATE CLUSTER AND SHOW USER\n",
    "    data, forest_image = imp_trees.get_trees_from_random_forest()\n",
    "    cluster = mc.make_cluster(forest_image)\n",
    "    forest_cluster = interact.tree_data(data, cluster)\n",
    "    forest_cluster.show_location()\n",
    "    forest_cluster.show_forest_cluster()"
   ]
  },
  {
   "cell_type": "code",
   "execution_count": null,
   "metadata": {},
   "outputs": [],
   "source": [
    "forest_cluster.set_label('TestLabel')"
   ]
  },
  {
   "cell_type": "code",
   "execution_count": null,
   "metadata": {},
   "outputs": [],
   "source": [
    "forest_cluster.show_labeled('TestLabel')"
   ]
  },
  {
   "cell_type": "code",
   "execution_count": null,
   "metadata": {},
   "outputs": [],
   "source": [
    "if __name__ == '__main__':\n",
    "    #CREATE AND RUN CLASSIFICATION\n",
    "    # Can be 'Inception' or 'cnn'\n",
    "    cm.run_classifier('Inception')"
   ]
  },
  {
   "cell_type": "code",
   "execution_count": null,
   "metadata": {},
   "outputs": [],
   "source": []
  }
 ],
 "metadata": {
  "kernelspec": {
   "display_name": "Python 3",
   "language": "python",
   "name": "python3"
  },
  "language_info": {
   "codemirror_mode": {
    "name": "ipython",
    "version": 3
   },
   "file_extension": ".py",
   "mimetype": "text/x-python",
   "name": "python",
   "nbconvert_exporter": "python",
   "pygments_lexer": "ipython3",
   "version": "3.6.12"
  }
 },
 "nbformat": 4,
 "nbformat_minor": 4
}
